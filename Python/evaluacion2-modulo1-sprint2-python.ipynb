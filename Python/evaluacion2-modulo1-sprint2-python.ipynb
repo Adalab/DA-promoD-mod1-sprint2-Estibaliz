{
 "cells": [
  {
   "attachments": {},
   "cell_type": "markdown",
   "metadata": {},
   "source": [
    "En esta evaluación tendremos que crearnos una clase. Estamos trabajando para una editorial y tienen muchos ficheros de tipo .txt. Quieren hacer un estudio de palabras de los textos que tienen, para ello nos piden que nos creemos una clase que:\n",
    "\n",
    "- Reciba dos parámetros en el método constructor: \n",
    "\n",
    "    - La ruta donde se encuentra el fichero\n",
    "    - El nombre y la extensión del fichero que quieren abrir. \n",
    "\n",
    "\n",
    "- Tenga un método que nos abra el fichero en python, como un único *string*. Este método tiene que ser capaz de abrir cualquier tipo de fichero y que este ubicado en cualquier ubicación de nuestros ordenadores. \n",
    "\n",
    "- Tenga un método que lea un número \"X\" de palabras del texto. En este caso, el número de palabras que queremos leer debe ser un parámetro de este método. En este código deberemos incluir:\n",
    "\n",
    "    - Que si nos pasan como valor de número de palabras un número que no sea *integer*, nos salga un mensaje por pantalla que nos avise que la operación no se pueden hacer ya que necesitamos que sea un número *integer*. \n",
    "\n",
    "- Similar que en el paso anterior, crea un método que nos permita leer \"X\" lineas del texto. En este caso, el número de lineas que quiere leer el usuario no debe ser un parámetro del método. Tendremos que:\n",
    "\n",
    "    - Crear un *input* en el método que le pregunte al usuario cuántas líneas quiere leer\n",
    "\n",
    "    - Que tenga un control de errores por si el valor que nos pasa el usuario no es correcto, como por ejemplo un valor decimal. \n",
    "\n",
    "    - Además tenemos que tener en cuenta en el código que puede que el usuario quiera leer todas las líneas del archivo. Incluye en el programa el código necesario para que si el usuario nos indica que quiere leer todas las líneas el programa lo pueda hacer.  \n",
    "\n",
    "    **BONUS** En vez de devolver el resultado como una lista de *string* devuelvelo como un único *string*. \n",
    "\n",
    "- En este punto de la evaluación ya os habréis dado cuenta que en este fichero las primeras lineas no corresponden al quijote. Pero entonces... ¿en qué punto empieza el libro del quijote? En concreto, el libro está comprendido entre la lineas 1780 y 74276. Crea un método que solo nos devuelva el contenido del libro, sin la introducción inicial. \n",
    "\n",
    "-  Crea un último método en la clase que nos permita extraer las veces que aparece determinada palabra en el libro. Para eso este método deberá: \n",
    "\n",
    "    - Recibir la palabra o palabras que quiere buscar el usuario en el texto. \n",
    "    - Devolver el número de veces que aparece dicha palabra. \n",
    "    - Para confirmar que vuestro código, deberéis buscar las siguientes palabras como ejemplos de este método: \n",
    "\n",
    "        - Quijote, debemos tener en cuenta que aparezca en mayúscula o en minúscula, es decir, \"Quijote\" o \"quijote\"\n",
    "\n",
    "        - Alonso,  debemos tener en cuenta que aparezca en mayúscula o en minúscula, es decir, \"Quijote\" o \"quijote\"\n",
    "\n",
    "        - Don Quijote, debemos tener en cuenta que aparezca en mayúscula o en minúscula, es decir, \"Quijote\" o \"quijote\"\n",
    "    \n",
    "- **Nota**: Puede que tengáis algunos problemas para abrir el fichero, esto es por el `encoding` que tiene. Para solucionar este problema deberéis usar un encoding = \"latin-1\"\n",
    "\n",
    "- **Nota**: El fichero de `quijote.txt` debe encontrarse en una carpeta llamada `data`, diferente de donde se encuentra este fichero jupyter con la resolución."
   ]
  },
  {
   "cell_type": "code",
   "execution_count": null,
   "metadata": {},
   "outputs": [],
   "source": [
    "#primero importamos la libreria os \n",
    "\n",
    "import os\n",
    "from os import getcwd"
   ]
  },
  {
   "cell_type": "code",
   "execution_count": null,
   "metadata": {},
   "outputs": [],
   "source": [
    "getcwd()"
   ]
  },
  {
   "cell_type": "code",
   "execution_count": null,
   "metadata": {},
   "outputs": [],
   "source": [
    "\"\"\" Comenzamos a crear la clase 'Gestion_Archivos', que tiene un constructor con tres atributos, \n",
    "que son la ruta de la carpeta, en nombre del archivo y la combinación de ambos\"\"\"\n",
    "\n",
    "class Gestion_Archivos:\n",
    "    def __init__(self, ruta_archivo, nombre_archivo):\n",
    "        self.ruta_archivo = ruta_archivo\n",
    "        self.nombre_archivo = nombre_archivo\n",
    "        self.ubicacion_archivo = ruta_archivo + '/' + nombre_archivo\n",
    "\n",
    "    \"\"\" Procedemos a crear el primer método, que se va a centrar en la apertura de ficheros y lectura de su contenido. \n",
    "    Para ello vamos a utilizar el método .read() y vamos a usar el try - except para que nos devuelva el error correspondiente\n",
    "    en caso de que el fichero no se encuentre en la ruta proporcionada. En el método de apertura vamos a determinar el modo de apertura\n",
    "    y el encoding.\"\"\"\n",
    "\n",
    "    def apertura_archivo(self):\n",
    "        try:\n",
    "            with open(self.ubicacion_archivo, 'r', encoding='latin-1') as file:\n",
    "                global libro\n",
    "                libro = file.read()\n",
    "                file.close()\n",
    "                print('Tu archivo se encuentra listo para abrir.')\n",
    "            return print(libro)\n",
    "        except FileNotFoundError:\n",
    "            print(f'El archivo {self.nombre_archivo} no se encuentra en la ruta especificada.')\n",
    "    \n",
    "    \"\"\" El segundo método se centra en la lectura de palabras. Para ello comprobamos en primer lugar si el dato introducido es un\n",
    "    integer; si comprueba que si abre el archivo en modo lectura. Después lo separamos por palabras con el método .split() para poder\n",
    "    acceder al número de palabras que queramos, y por último lo juntamos todo en un único string.\n",
    "    Si el número introducido no es un integer el else nos indica el error.\"\"\"\n",
    "\n",
    "\n",
    "    def lectura_palabras(self, numero_palabras):\n",
    "        if type(numero_palabras) == int:\n",
    "            with open(self.ubicacion_archivo, 'r', encoding='latin-1') as file:\n",
    "                fichero = file.read().split()\n",
    "                fichero_por_palabras = fichero[:numero_palabras]\n",
    "                fichero_por_palabras = ' '.join(fichero_por_palabras)\n",
    "            return fichero_por_palabras\n",
    "        else: \n",
    "            return f\"El número introducido {numero_palabras} no es un número entero o válido.\"\n",
    "\n",
    "    \"\"\" La función del tercer método comienza con un input en el cual preguntamos al usuario el número de líneas que quiere leer,\n",
    "    después creamos una lista vacía ya que el método .readlines() nos devuelve una lista. Si se llega al final del archivo antes \n",
    "    de leer el número de líneas que le hemos pedido, el bucle se rompe con un break. Por último uniremos de nuevo todo en un string con\n",
    "    el método .join()\"\"\"  \n",
    "\n",
    "    def lectura_lineas(self):\n",
    "        input_numero = int(input('Especifica el número de líneas que quieres leer.'))\n",
    "        lista_lineas = []\n",
    "\n",
    "        with open(self.ubicacion_archivo, 'r', encoding=\"latin-1\") as f:\n",
    "            for i in range(input_numero):\n",
    "                linea = f.readline()\n",
    "                if not linea:\n",
    "                    break\n",
    "                lista_lineas.append(linea)\n",
    "            lineas_string = '\\n'.join(lista_lineas)\n",
    "        return lineas_string\n",
    "    \n",
    "    \"\"\" Por último vamos a crear un método para que nos devuelva el fichero a partir de la página especificada. Al devolvernos una lista\n",
    "    el método .readlines(), vamos a utilizar los corchetes como índice, indicándole que empiece a partir del número que hemos determinado.\"\"\"\n",
    "\n",
    "    def libro_sin_intro(self):\n",
    "        \n",
    "        with open(self.ubicacion_archivo, 'r', encoding=\"latin-1\") as f:\n",
    "            sin_intro = f.readlines()\n",
    "            serie = sin_intro[1780:]\n",
    "            string_sin_intro = ' '.join(serie)\n",
    "        return string_sin_intro\n",
    "    \n",
    "    "
   ]
  },
  {
   "cell_type": "code",
   "execution_count": null,
   "metadata": {},
   "outputs": [],
   "source": [
    "nombre_archivo = 'quijote.txt'\n",
    "ruta_archivo = 'data'\n",
    "ubicacion_archivo = ruta_archivo + '/' + nombre_archivo"
   ]
  },
  {
   "cell_type": "code",
   "execution_count": null,
   "metadata": {},
   "outputs": [],
   "source": [
    "don_quijote = Gestion_Archivos(ruta_archivo, nombre_archivo)"
   ]
  },
  {
   "cell_type": "code",
   "execution_count": null,
   "metadata": {},
   "outputs": [],
   "source": [
    "don_quijote.apertura_archivo()"
   ]
  },
  {
   "cell_type": "code",
   "execution_count": null,
   "metadata": {},
   "outputs": [],
   "source": [
    "don_quijote.lectura_palabras(10)"
   ]
  },
  {
   "cell_type": "code",
   "execution_count": null,
   "metadata": {},
   "outputs": [],
   "source": [
    "don_quijote.lectura_lineas()\n"
   ]
  },
  {
   "cell_type": "code",
   "execution_count": null,
   "metadata": {},
   "outputs": [],
   "source": [
    "don_quijote.libro_sin_intro()"
   ]
  }
 ],
 "metadata": {
  "kernelspec": {
   "display_name": "Python 3",
   "language": "python",
   "name": "python3"
  },
  "language_info": {
   "codemirror_mode": {
    "name": "ipython",
    "version": 3
   },
   "file_extension": ".py",
   "mimetype": "text/x-python",
   "name": "python",
   "nbconvert_exporter": "python",
   "pygments_lexer": "ipython3",
   "version": "3.9.7"
  },
  "orig_nbformat": 4,
  "vscode": {
   "interpreter": {
    "hash": "31f2aee4e71d21fbe5cf8b01ff0e069b9275f58929596ceb00d14d90e3e16cd6"
   }
  }
 },
 "nbformat": 4,
 "nbformat_minor": 2
}
